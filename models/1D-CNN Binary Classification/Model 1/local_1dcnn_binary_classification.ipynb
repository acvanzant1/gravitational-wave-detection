{
 "cells": [
  {
   "cell_type": "code",
   "execution_count": null,
   "metadata": {},
   "outputs": [],
   "source": [
    "##IMPORTS\n",
    "import numpy as np\n",
    "import pandas as pd\n",
    "\n",
    "import tensorflow as tf\n",
    "from tensorflow.keras.models import Sequential\n",
    "from tensorflow.keras.layers import Dense, Conv1D, Dropout, MaxPool1D, ReLU, Flatten\n",
    "\n",
    "from sklearn.preprocessing import StandardScaler"
   ]
  },
  {
   "cell_type": "code",
   "execution_count": null,
   "metadata": {},
   "outputs": [],
   "source": [
    "##DEFINES DATASET PARAMETERS\n",
    "samples_per_class = 5000\n",
    "no_of_classes = 2"
   ]
  },
  {
   "cell_type": "code",
   "execution_count": null,
   "metadata": {},
   "outputs": [],
   "source": [
    "## READING DATA\n",
    "import pandas as pd\n",
    "\n",
    "noise_df = pd.read_csv(\"Downloads/Gravitational-Wave-Detection-Using-Deep-Learning/raw_data_files/Final_Merged_Noise_Reduced_No_Abs.csv\", header=None)\n",
    "noise = noise_df.values.astype(float)\n",
    "\n",
    "data_df = pd.read_csv(\"Downloads/Gravitational-Wave-Detection-Using-Deep-Learning/raw_data_files/Final_BBH_Merged_Noise_Signal_Reduced_No_ABS.csv\", header=None)\n",
    "data_BBH = data_df.values.astype(float)\n",
    "\n",
    "print(f\"✅ Loaded noise_df! Shape: {noise_df.shape}\")\n",
    "print(f\"✅ Loaded data_df! Shape: {data_df.shape}\")"
   ]
  },
  {
   "cell_type": "code",
   "execution_count": null,
   "metadata": {},
   "outputs": [],
   "source": [
    "X = np.concatenate((noise_X, data_X), axis=0)\n",
    "Y = np.concatenate((noise_y, data_y), axis=0)\n",
    "\n",
    "print(len(noise_df.index))\n",
    "print(X)\n",
    "print(Y)"
   ]
  },
  {
   "cell_type": "code",
   "execution_count": null,
   "metadata": {},
   "outputs": [],
   "source": [
    "# debugging\n",
    "\n",
    "# mnist = tf.keras.datasets.mnist\n",
    "# (x_train, y_train),(x_test, y_test) = mnist.load_data()\n",
    "\n",
    "# print(y_train)\n",
    "# y_train = tf.keras.utils.to_categorical(y_train)\n",
    "# y_test = tf.keras.utils.to_categorical(y_test)\n",
    "\n",
    "# print(y_train)\n",
    "# print(X[0])"
   ]
  },
  {
   "cell_type": "code",
   "execution_count": null,
   "metadata": {},
   "outputs": [],
   "source": [
    "# Alternate way of creating y for the dataset\n",
    " \n",
    "y = [int(i/samples_per_class) for i in range(samples_per_class*no_of_classes)]\n",
    "y = tf.keras.utils.to_categorical(y)\n",
    "print(y)"
   ]
  },
  {
   "cell_type": "code",
   "execution_count": null,
   "metadata": {},
   "outputs": [],
   "source": [
    "# debugging\n",
    "\n",
    "x = [[0,0],[1,1]]\n",
    "a = [[0],[1]]\n",
    "x = np.hstack((x, a))\n",
    "x\n",
    "x, a, _ = np.split(x, [len(x[0])-1, len(x[0])], axis = 1)\n",
    "x, a "
   ]
  },
  {
   "cell_type": "code",
   "execution_count": null,
   "metadata": {},
   "outputs": [],
   "source": [
    "# shuffling the data\n",
    "\n",
    "X = np.hstack((X, y))\n",
    "np.random.shuffle(X)\n",
    "\n",
    "X, y, _ = np.split(X, [len(X[0])-no_of_classes, len(X[0])], axis = 1)\n",
    "\n",
    "print(X)\n",
    "print(y)"
   ]
  },
  {
   "cell_type": "code",
   "execution_count": null,
   "metadata": {},
   "outputs": [],
   "source": [
    "scaler = StandardScaler()\n",
    "X = scaler.fit_transform(X)\n",
    "print(X)"
   ]
  },
  {
   "cell_type": "code",
   "execution_count": null,
   "metadata": {},
   "outputs": [],
   "source": [
    "# debugging\n",
    "\n",
    "x = [[0,0],[1,1]]\n",
    "y = np.expand_dims(x, axis=-1)\n",
    "print(y, y.shape)"
   ]
  },
  {
   "cell_type": "code",
   "execution_count": null,
   "metadata": {},
   "outputs": [],
   "source": [
    "X = np.expand_dims(X, axis=-1)"
   ]
  },
  {
   "cell_type": "code",
   "execution_count": null,
   "metadata": {},
   "outputs": [],
   "source": [
    "model = Sequential()\n",
    "\n",
    "model.add(Conv1D(64, 32, input_shape = (16384,1)))\n",
    "model.add(MaxPool1D(4, 4))\n",
    "model.add(ReLU())\n",
    "model.add(Conv1D(128, 64))\n",
    "model.add(MaxPool1D(4, 4))\n",
    "model.add(ReLU())\n",
    "model.add(Conv1D(256, 64))\n",
    "model.add(MaxPool1D(4, 4))\n",
    "model.add(ReLU())\n",
    "model.add(Conv1D(512, 128))\n",
    "model.add(MaxPool1D(4, 4))\n",
    "model.add(ReLU())\n",
    "model.add(Flatten())\n",
    "model.add(Dense(128, activation='relu'))\n",
    "model.add(Dense(64, activation='relu'))\n",
    "model.add(Dropout(0.2))                         # dropout rate not givem\n",
    "model.add(Dense(2, activation=tf.nn.softmax))\n",
    "\n",
    "# learning rate not given\n",
    "model.compile(optimizer=tf.keras.optimizers.Adam(0.001), loss='categorical_crossentropy', metrics=['accuracy'])\n"
   ]
  },
  {
   "cell_type": "code",
   "execution_count": null,
   "metadata": {},
   "outputs": [],
   "source": [
    "model.summary()"
   ]
  },
  {
   "cell_type": "code",
   "execution_count": null,
   "metadata": {},
   "outputs": [],
   "source": [
    "# print(X1.shape, y.shape)\n",
    "# X2 = X1[:1600, :]\n",
    "# y2 = y[:1600, :]\n",
    "\n",
    "# X3 = X1[1600:2000, :]\n",
    "# y3 = y[1600:2000, :]\n",
    "# print(X2.shape, y2.shape)\n",
    "# print(X3.shape, y3.shape)"
   ]
  },
  {
   "cell_type": "code",
   "execution_count": null,
   "metadata": {},
   "outputs": [],
   "source": [
    "\t\n",
    "# print(X.shape, y.shape)\n",
    "# X2 = X[:10, :]\n",
    "# y2 = y[:10, :]\n",
    "\n",
    "# X3 = X[10:12, :]\n",
    "# y3 = y[10:12, :]\n",
    "\n",
    "# X2 = np.expand_dims(X2, axis=-1)\n",
    "# X3 = np.expand_dims(X3, axis=-1)\n",
    "# print(X2.shape, y2.shape)\n",
    "# print(X3.shape, y3.shape)"
   ]
  },
  {
   "cell_type": "code",
   "execution_count": null,
   "metadata": {},
   "outputs": [],
   "source": [
    "model.fit(X, y, batch_size=32, epochs=10) #, validation_data=(X3, y3)"
   ]
  }
 ],
 "metadata": {
  "kernelspec": {
   "display_name": "gw_env_39",
   "language": "python",
   "name": "python3"
  },
  "language_info": {
   "codemirror_mode": {
    "name": "ipython",
    "version": 3
   },
   "file_extension": ".py",
   "mimetype": "text/x-python",
   "name": "python",
   "nbconvert_exporter": "python",
   "pygments_lexer": "ipython3",
   "version": "3.9.9"
  },
  "orig_nbformat": 4
 },
 "nbformat": 4,
 "nbformat_minor": 2
}
