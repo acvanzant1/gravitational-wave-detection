{
 "cells": [
  {
   "cell_type": "code",
   "execution_count": null,
   "metadata": {
    "executionInfo": {
     "elapsed": 5388,
     "status": "ok",
     "timestamp": 1645769710309,
     "user": {
      "displayName": "Hrishikesh Govindrao Kusneniwar",
      "photoUrl": "https://lh3.googleusercontent.com/a/default-user=s64",
      "userId": "06061475785102697213"
     },
     "user_tz": -330
    },
    "id": "L5inbyEdw1A7"
   },
   "outputs": [],
   "source": [
    "import numpy as np\n",
    "import pandas as pd\n",
    "import matplotlib.pyplot as plt\n",
    "from keras.models import load_model\n",
    "\n",
    "import tensorflow as tf\n",
    "from tensorflow.keras.models import Sequential\n",
    "from tensorflow.keras.layers import Dense, Conv1D, Dropout, MaxPool1D, ReLU, Flatten\n",
    "\n",
    "from sklearn.preprocessing import StandardScaler\n",
    "from sklearn.model_selection import train_test_split"
   ]
  },
  {
   "cell_type": "code",
   "execution_count": null,
   "metadata": {
    "colab": {
     "base_uri": "https://localhost:8080/"
    },
    "executionInfo": {
     "elapsed": 1371,
     "status": "ok",
     "timestamp": 1645769952595,
     "user": {
      "displayName": "Hrishikesh Govindrao Kusneniwar",
      "photoUrl": "https://lh3.googleusercontent.com/a/default-user=s64",
      "userId": "06061475785102697213"
     },
     "user_tz": -330
    },
    "id": "MzCUizYfw1A_",
    "outputId": "f992703a-3727-438e-f371-e7e3bff78199"
   },
   "outputs": [],
   "source": [
    "data_BBH_df = pd.read_csv(\"\", header=None)\n",
    "X = data_BBH_df.values.astype(float)\n",
    "\n",
    "print(len(data_BBH_df.index))\n",
    "\n",
    "y = [1 for i in range(len(data_BBH_df.index))]\n",
    "\n",
    "X *= 1e19\n",
    "print(X)\n",
    "\n",
    "# X *= 1e18\n",
    "# print(X)\n",
    "\n",
    "# X *= 1e20\n",
    "# print(X)\n",
    "\n",
    "# X /= 3\n",
    "# print(X)\n",
    "\n",
    "X = np.expand_dims(X, axis=-1)\n",
    "print(X.shape)"
   ]
  },
  {
   "cell_type": "code",
   "execution_count": null,
   "metadata": {
    "executionInfo": {
     "elapsed": 573,
     "status": "ok",
     "timestamp": 1645769954363,
     "user": {
      "displayName": "Hrishikesh Govindrao Kusneniwar",
      "photoUrl": "https://lh3.googleusercontent.com/a/default-user=s64",
      "userId": "06061475785102697213"
     },
     "user_tz": -330
    },
    "id": "qxVd6XC9w1BM"
   },
   "outputs": [],
   "source": [
    "model = load_model(\"\")"
   ]
  },
  {
   "cell_type": "code",
   "execution_count": null,
   "metadata": {
    "executionInfo": {
     "elapsed": 310,
     "status": "ok",
     "timestamp": 1645769956054,
     "user": {
      "displayName": "Hrishikesh Govindrao Kusneniwar",
      "photoUrl": "https://lh3.googleusercontent.com/a/default-user=s64",
      "userId": "06061475785102697213"
     },
     "user_tz": -330
    },
    "id": "SoKM20z9NKSa"
   },
   "outputs": [],
   "source": [
    "pred = model.predict(X)\n",
    "# print(pred)\n",
    "\n",
    "# print(np.argmax(pred, axis = 1))"
   ]
  },
  {
   "cell_type": "code",
   "execution_count": null,
   "metadata": {
    "colab": {
     "base_uri": "https://localhost:8080/"
    },
    "executionInfo": {
     "elapsed": 315,
     "status": "ok",
     "timestamp": 1645769958173,
     "user": {
      "displayName": "Hrishikesh Govindrao Kusneniwar",
      "photoUrl": "https://lh3.googleusercontent.com/a/default-user=s64",
      "userId": "06061475785102697213"
     },
     "user_tz": -330
    },
    "id": "Pmgt8aQSgMZZ",
    "outputId": "7394d131-eb0d-4587-9755-e459c9d0408f"
   },
   "outputs": [],
   "source": [
    "y_pred = np.argmax(pred, axis = 1)\n",
    "correct = 0\n",
    "\n",
    "for i in range(len(data_BBH_df.index)):\n",
    "  if y_pred[i]==y[i]:\n",
    "    correct += 1\n",
    "\n",
    "acc = (correct/len(data_BBH_df.index))*100\n",
    "print(f\"Total no. of data samples: {len(data_BBH_df.index)}\")\n",
    "print(f\"No. of correct predictions: {correct}\")\n",
    "print(f\"accuracy: {acc}\")"
   ]
  }
 ],
 "metadata": {
  "accelerator": "GPU",
  "colab": {
   "collapsed_sections": [],
   "name": "Copy of colab_model_testing_on_ligo_bbh_data.ipynb",
   "provenance": [
    {
     "file_id": "16JeHDycVXnhxUBRk4mVsxDga9IxS0NLJ",
     "timestamp": 1645769654082
    }
   ]
  },
  "kernelspec": {
   "display_name": "gw_env_39",
   "language": "python",
   "name": "python3"
  },
  "language_info": {
   "codemirror_mode": {
    "name": "ipython",
    "version": 3
   },
   "file_extension": ".py",
   "mimetype": "text/x-python",
   "name": "python",
   "nbconvert_exporter": "python",
   "pygments_lexer": "ipython3",
   "version": "3.9.9"
  },
  "orig_nbformat": 4
 },
 "nbformat": 4,
 "nbformat_minor": 0
}
