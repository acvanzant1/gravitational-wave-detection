{
 "cells": [
  {
   "cell_type": "markdown",
   "metadata": {},
   "source": [
    "# Imports"
   ]
  },
  {
   "cell_type": "code",
   "execution_count": 5,
   "metadata": {},
   "outputs": [
    {
     "name": "stderr",
     "output_type": "stream",
     "text": [
      "/Users/adamvanzant/.pyenv/versions/gw_env_39/lib/python3.9/site-packages/pycbc/types/array.py:36: UserWarning: Wswiglal-redir-stdio:\n",
      "\n",
      "SWIGLAL standard output/error redirection is enabled in IPython.\n",
      "This may lead to performance penalties. To disable locally, use:\n",
      "\n",
      "with lal.no_swig_redirect_standard_output_error():\n",
      "    ...\n",
      "\n",
      "To disable globally, use:\n",
      "\n",
      "lal.swig_redirect_standard_output_error(False)\n",
      "\n",
      "Note however that this will likely lead to error messages from\n",
      "LAL functions being either misdirected or lost when called from\n",
      "Jupyter notebooks.\n",
      "\n",
      "To suppress this warning, use:\n",
      "\n",
      "import warnings\n",
      "warnings.filterwarnings(\"ignore\", \"Wswiglal-redir-stdio\")\n",
      "import lal\n",
      "\n",
      "  import lal as _lal\n"
     ]
    }
   ],
   "source": [
    "\n",
    "from pycbc import distributions\n",
    "from pycbc.waveform import get_td_waveform\n",
    "import matplotlib.pyplot as plt\n",
    "import numpy as np\n",
    "import pylab\n",
    "from tqdm.notebook import tqdm\n",
    "from gwpy.timeseries import TimeSeries\n",
    "import pandas as pd\n",
    "import os\n",
    "import csv\n",
    "from gwosc.datasets import event_gps\n",
    "from gwpy.timeseries import TimeSeries\n",
    "from pycbc.catalog import Merger\n",
    "import pylab\n",
    "from pycbc.filter import resample_to_delta_t, highpass\n",
    "import pycbc.psd\n",
    "import pycbc.noise"
   ]
  },
  {
   "cell_type": "markdown",
   "metadata": {},
   "source": [
    "# Marginal Events Data Download"
   ]
  },
  {
   "cell_type": "code",
   "execution_count": 6,
   "metadata": {},
   "outputs": [],
   "source": [
    "marginal_events =  [\"170720\",\n",
    "                    \"170705\",\n",
    "                    \"170630\",\n",
    "                    \"170616\",\n",
    "                    \"170423\",\n",
    "                    \"170412\",\n",
    "                    \"170405\",\n",
    "                    \"170219\",\n",
    "                    \"170208\",\n",
    "                    \"161217\",\n",
    "                    \"161202\",\n",
    "                    \"151116\",\n",
    "                    \"151012.2\",\n",
    "                    \"151008\",\n",
    "                    \"GW190531_023648\",\n",
    "                    \"GW190426_152155\",\n",
    "                    \"GW200311_103121\",\n",
    "                    \"200219_201407\",\n",
    "                    \"GW200201_203549\",\n",
    "                    \"200121_031748\",\n",
    "                    \"GW200105_162426\",\n",
    "                    \"GW191118_212859\",\n",
    "                    \"200214_224526\",\n",
    "                    \"200114_020818\",\n",
    "                    \"191225_215715\",\n",
    "                    \"191223_014159\",\n",
    "                    \"190924_232654\"]"
   ]
  },
  {
   "cell_type": "code",
   "execution_count": null,
   "metadata": {},
   "outputs": [],
   "source": [
    "directory = \"Downloads/Gravitational-Wave-Detection-Using-Deep-Learning/LIGO-Detector-Data/Marginal-events/\""
   ]
  },
  {
   "cell_type": "code",
   "execution_count": 8,
   "metadata": {},
   "outputs": [
    {
     "name": "stdout",
     "output_type": "stream",
     "text": [
      "27\n"
     ]
    }
   ],
   "source": [
    "print(len(marginal_events))"
   ]
  },
  {
   "cell_type": "code",
   "execution_count": 9,
   "metadata": {},
   "outputs": [
    {
     "data": {
      "application/vnd.jupyter.widget-view+json": {
       "model_id": "57d582b0355b492b95d5cc04420f56a9",
       "version_major": 2,
       "version_minor": 0
      },
      "text/plain": [
       "  0%|          | 0/27 [00:00<?, ?it/s]"
      ]
     },
     "metadata": {},
     "output_type": "display_data"
    }
   ],
   "source": [
    "# Code to fetch strain data from GWOSC server\n",
    "\n",
    "for i in tqdm(range(len(marginal_events))):\n",
    "\n",
    "    gps = event_gps(marginal_events[i])\n",
    "    start = int(gps) - 15\n",
    "    end = int(gps) + 15\n",
    "\n",
    "    if i == 19:\n",
    "        data = TimeSeries.fetch_open_data('H1', start, end)\n",
    "\n",
    "    else:\n",
    "        data = TimeSeries.fetch_open_data('L1', start, end)\n",
    "\n",
    "    data.write(directory + \"Original-signals/\"+marginal_events[i]+\".txt\")       \n",
    "    "
   ]
  },
  {
   "cell_type": "code",
   "execution_count": 10,
   "metadata": {},
   "outputs": [
    {
     "data": {
      "application/vnd.jupyter.widget-view+json": {
       "model_id": "b172dbef7ce849918833210dca1c511f",
       "version_major": 2,
       "version_minor": 0
      },
      "text/plain": [
       "  0%|          | 0/27 [00:00<?, ?it/s]"
      ]
     },
     "metadata": {},
     "output_type": "display_data"
    }
   ],
   "source": [
    "# Merging Original Strain Data Templates into single file\n",
    "\n",
    "path = directory + \"Original-signals/\"\n",
    "files= os.listdir(path)\n",
    "f = open(directory + 'Original_signals.csv', 'w')\n",
    "cw = csv.writer(f)\n",
    "\n",
    "for i in tqdm(files):\n",
    "    df = pd.read_csv(path+i,sep = ' ', header=None)\n",
    "    c = df[:][1]\n",
    "    cw.writerow(c)\n",
    "f.close()"
   ]
  },
  {
   "cell_type": "code",
   "execution_count": 11,
   "metadata": {},
   "outputs": [
    {
     "data": {
      "application/vnd.jupyter.widget-view+json": {
       "model_id": "073c279173ee4e52985aa2191355033e",
       "version_major": 2,
       "version_minor": 0
      },
      "text/plain": [
       "  0%|          | 0/27 [00:00<?, ?it/s]"
      ]
     },
     "metadata": {},
     "output_type": "display_data"
    }
   ],
   "source": [
    "# Processed strain data\n",
    "\n",
    "for i in tqdm(range(len(marginal_events))):\n",
    "    gps = event_gps(marginal_events[i])\n",
    "    \n",
    "    data = TimeSeries.read(directory + \"Original-signals/\"+marginal_events[i]+\".txt\")    \n",
    "    data = TimeSeries.to_pycbc(data)\n",
    "    data = data.whiten(4, 4)\n",
    "    data = data.highpass_fir(30, 512).lowpass_fir(250, 512)\n",
    "    data = data.time_slice(gps - 2, gps + 2)\n",
    "    \n",
    "    data = TimeSeries.from_pycbc(data)\n",
    "    data.write(directory + \"Processed-signals/\"+marginal_events[i]+\".txt\")    \n",
    "    "
   ]
  },
  {
   "cell_type": "code",
   "execution_count": 12,
   "metadata": {},
   "outputs": [
    {
     "data": {
      "application/vnd.jupyter.widget-view+json": {
       "model_id": "022de3528d74446e92d1a3a982337954",
       "version_major": 2,
       "version_minor": 0
      },
      "text/plain": [
       "  0%|          | 0/27 [00:00<?, ?it/s]"
      ]
     },
     "metadata": {},
     "output_type": "display_data"
    }
   ],
   "source": [
    "# Merging Processed Strain Data Templates into single file\n",
    "\n",
    "path = directory + \"Processed-signals/\"\n",
    "files= os.listdir(path)\n",
    "f = open(directory + 'Processed_Marginal_Merged.csv', 'w')\n",
    "cw = csv.writer(f)\n",
    "\n",
    "for i in tqdm(files):\n",
    "    df = pd.read_csv(path+i,sep = ' ', header=None)\n",
    "    c = df[:][1]\n",
    "    cw.writerow(c)\n",
    "f.close()"
   ]
  },
  {
   "cell_type": "code",
   "execution_count": 13,
   "metadata": {},
   "outputs": [
    {
     "data": {
      "application/vnd.jupyter.widget-view+json": {
       "model_id": "2d81174e99d948558a821c451dae2ff4",
       "version_major": 2,
       "version_minor": 0
      },
      "text/plain": [
       "  0%|          | 0/27 [00:00<?, ?it/s]"
      ]
     },
     "metadata": {},
     "output_type": "display_data"
    }
   ],
   "source": [
    "# Another way of processing the strain data\n",
    "# Scaled Processed strain data\n",
    "\n",
    "for i in tqdm(range(len(marginal_events))):\n",
    "    gps = event_gps(marginal_events[i])\n",
    "    \n",
    "    data = TimeSeries.read(directory + \"Original-signals/\"+marginal_events[i]+\".txt\")    \n",
    "    data = TimeSeries.to_pycbc(data)\n",
    "    data = data.whiten(4, 4)\n",
    "    data = data.highpass_fir(30, 512).lowpass_fir(250, 512)\n",
    "    data = data.time_slice(gps - 2, gps + 2)\n",
    "    \n",
    "    data = TimeSeries.from_pycbc(data)\n",
    "    data = (data/(max(data.max(), np.abs(data.min()))))*1.25\n",
    "    data *= 0.4\n",
    "    data *= 1e-17\n",
    "\n",
    "    data.write(directory + \"Scaled-Processed-signals/\"+marginal_events[i]+\".txt\")    \n",
    "    "
   ]
  },
  {
   "cell_type": "code",
   "execution_count": 14,
   "metadata": {},
   "outputs": [
    {
     "data": {
      "application/vnd.jupyter.widget-view+json": {
       "model_id": "6856b5f7d17a45cc9d35d4a374ee3629",
       "version_major": 2,
       "version_minor": 0
      },
      "text/plain": [
       "  0%|          | 0/27 [00:00<?, ?it/s]"
      ]
     },
     "metadata": {},
     "output_type": "display_data"
    }
   ],
   "source": [
    "# Merging Scaled Processed Strain Data Templates into single file\n",
    "\n",
    "path = directory + \"Scaled-Processed-signals/\"\n",
    "files= os.listdir(path)\n",
    "f = open(directory + 'Scaled_Processed_Marginal_Merged.csv', 'w')\n",
    "cw = csv.writer(f)\n",
    "\n",
    "for i in tqdm(files):\n",
    "    df = pd.read_csv(path+i,sep = ' ', header=None)\n",
    "    c = df[:][1]\n",
    "    cw.writerow(c)\n",
    "f.close()"
   ]
  },
  {
   "cell_type": "code",
   "execution_count": 15,
   "metadata": {},
   "outputs": [
    {
     "data": {
      "application/vnd.jupyter.widget-view+json": {
       "model_id": "1285740892514bdcaac3b5d6cb173eec",
       "version_major": 2,
       "version_minor": 0
      },
      "text/plain": [
       "  0%|          | 0/27 [00:00<?, ?it/s]"
      ]
     },
     "metadata": {},
     "output_type": "display_data"
    }
   ],
   "source": [
    "# Another way of processing the strain data\n",
    "## Scaled Sliced strain data\n",
    "\n",
    "for i in tqdm(range(len(marginal_events))):\n",
    "    gps = event_gps(marginal_events[i])\n",
    "    \n",
    "    data = TimeSeries.read(directory + \"Original-signals/\"+marginal_events[i]+\".txt\")    \n",
    "    data = TimeSeries.to_pycbc(data)\n",
    "    data = data.time_slice(gps - 2, gps + 2)\n",
    "    \n",
    "    data = TimeSeries.from_pycbc(data)\n",
    "    data = (data/(max(data.max(), np.abs(data.min()))))*1.25\n",
    "    data *= 0.4\n",
    "    data *= 1e-17\n",
    "\n",
    "    data.write(directory + \"Scaled-Sliced-signals/\"+marginal_events[i]+\".txt\")    \n",
    "    "
   ]
  },
  {
   "cell_type": "code",
   "execution_count": 16,
   "metadata": {},
   "outputs": [
    {
     "data": {
      "application/vnd.jupyter.widget-view+json": {
       "model_id": "35cac647884a46ae9b82d6bb44634149",
       "version_major": 2,
       "version_minor": 0
      },
      "text/plain": [
       "  0%|          | 0/27 [00:00<?, ?it/s]"
      ]
     },
     "metadata": {},
     "output_type": "display_data"
    }
   ],
   "source": [
    "# Merging Scaled Sliced Strain Data Templates into single file\n",
    "\n",
    "path = directory + \"Scaled-Sliced-signals/\"\n",
    "files= os.listdir(path)\n",
    "f = open(directory + 'Scaled_Sliced_Marginal_Merged.csv', 'w')\n",
    "cw = csv.writer(f)\n",
    "\n",
    "for i in tqdm(files):\n",
    "    df = pd.read_csv(path+i,sep = ' ', header=None)\n",
    "    c = df[:][1]\n",
    "    cw.writerow(c)\n",
    "f.close()"
   ]
  },
  {
   "cell_type": "code",
   "execution_count": 17,
   "metadata": {},
   "outputs": [
    {
     "data": {
      "text/plain": [
       "[<matplotlib.lines.Line2D at 0x332dcda30>]"
      ]
     },
     "execution_count": 17,
     "metadata": {},
     "output_type": "execute_result"
    },
    {
     "data": {
      "image/png": "[encoded data removed]",
      "text/plain": [
       "<Figure size 640x480 with 1 Axes>"
      ]
     },
     "metadata": {},
     "output_type": "display_data"
    }
   ],
   "source": [
    "# Visualization of the Processed Strain Data\n",
    "# Duration of the data is 4s, i.e. a 2s interval around the merger\n",
    "\n",
    "i = 10\n",
    "data = TimeSeries.read(directory + \"Original-signals/\"+marginal_events[i]+\".txt\")\n",
    "plt.plot(data)"
   ]
  }
 ],
 "metadata": {
  "kernelspec": {
   "display_name": "gw_env_39",
   "language": "python",
   "name": "python3"
  },
  "language_info": {
   "codemirror_mode": {
    "name": "ipython",
    "version": 3
   },
   "file_extension": ".py",
   "mimetype": "text/x-python",
   "name": "python",
   "nbconvert_exporter": "python",
   "pygments_lexer": "ipython3",
   "version": "3.9.9"
  },
  "orig_nbformat": 4
 },
 "nbformat": 4,
 "nbformat_minor": 2
}
